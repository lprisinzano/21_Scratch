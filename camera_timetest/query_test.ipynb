{
 "cells": [
  {
   "cell_type": "code",
   "execution_count": 1,
   "metadata": {},
   "outputs": [],
   "source": [
    "import numpy as np\n",
    "import lsst.sims.utils as simsUtils\n",
    "from lsst.sims.coordUtils import _chipNameFromRaDec\n",
    "from lsst.obs.lsst import LsstCamMapper\n",
    "import healpy as hp\n"
   ]
  },
  {
   "cell_type": "code",
   "execution_count": null,
   "metadata": {},
   "outputs": [],
   "source": []
  },
  {
   "cell_type": "code",
   "execution_count": 2,
   "metadata": {},
   "outputs": [],
   "source": [
    "pointing_ra = 0.\n",
    "pointing_dec = 0.\n",
    "\n",
    "mapper = LsstCamMapper()\n",
    "camera = mapper.camera\n",
    "epoch = 2000.0\n",
    "rotSkyPos = 0.\n",
    "mjd = 5300\n"
   ]
  },
  {
   "cell_type": "code",
   "execution_count": 3,
   "metadata": {},
   "outputs": [],
   "source": [
    "nside = 512\n",
    "hpid = np.arange(hp.nside2npix(nside))\n",
    "ra, dec = simsUtils._hpid2RaDec(nside, hpid)\n",
    "radial_cut = np.radians(1.75)"
   ]
  },
  {
   "cell_type": "code",
   "execution_count": 4,
   "metadata": {},
   "outputs": [
    {
     "name": "stdout",
     "output_type": "stream",
     "text": [
      "724\n"
     ]
    }
   ],
   "source": [
    "# this is a bad slow way to calculate this, should use a kd tree if possible\n",
    "ang_dist = simsUtils._angularSeparation(np.radians(pointing_ra), np.radians(pointing_dec),\n",
    "                                       ra, dec)\n",
    "in_circle = np.where(ang_dist <= radial_cut)[0]\n",
    "print(in_circle.size)"
   ]
  },
  {
   "cell_type": "code",
   "execution_count": 5,
   "metadata": {},
   "outputs": [
    {
     "name": "stdout",
     "output_type": "stream",
     "text": [
      "CPU times: user 2.68 s, sys: 77.3 ms, total: 2.76 s\n",
      "Wall time: 2.86 s\n"
     ]
    }
   ],
   "source": [
    "%%time\n",
    "obs_metadata = simsUtils.ObservationMetaData(pointingRA=pointing_ra,\n",
    "                                             pointingDec=pointing_dec,\n",
    "                                             rotSkyPos=rotSkyPos,\n",
    "                                                             mjd=mjd)\n",
    "\n",
    "chipNames = _chipNameFromRaDec(ra[in_circle],\n",
    "                               dec[in_circle],\n",
    "                               epoch=epoch,\n",
    "                               camera=camera, obs_metadata=obs_metadata)\n",
    "\n"
   ]
  },
  {
   "cell_type": "code",
   "execution_count": 6,
   "metadata": {},
   "outputs": [
    {
     "data": {
      "text/plain": [
       "724"
      ]
     },
     "execution_count": 6,
     "metadata": {},
     "output_type": "execute_result"
    }
   ],
   "source": [
    "chipNames.size"
   ]
  },
  {
   "cell_type": "code",
   "execution_count": null,
   "metadata": {},
   "outputs": [],
   "source": []
  },
  {
   "cell_type": "code",
   "execution_count": null,
   "metadata": {},
   "outputs": [],
   "source": []
  }
 ],
 "metadata": {
  "kernelspec": {
   "display_name": "Python 3",
   "language": "python",
   "name": "python3"
  },
  "language_info": {
   "codemirror_mode": {
    "name": "ipython",
    "version": 3
   },
   "file_extension": ".py",
   "mimetype": "text/x-python",
   "name": "python",
   "nbconvert_exporter": "python",
   "pygments_lexer": "ipython3",
   "version": "3.7.8"
  }
 },
 "nbformat": 4,
 "nbformat_minor": 4
}
