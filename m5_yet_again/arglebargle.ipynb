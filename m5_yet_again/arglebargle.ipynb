{
 "cells": [
  {
   "cell_type": "code",
   "execution_count": 1,
   "id": "coordinate-world",
   "metadata": {},
   "outputs": [],
   "source": [
    "import numpy as np"
   ]
  },
  {
   "cell_type": "code",
   "execution_count": 13,
   "id": "incomplete-comfort",
   "metadata": {},
   "outputs": [],
   "source": [
    "class SysEngVals_a(object):\n",
    "    # 1x30\n",
    "    def __init__(self):\n",
    "        self.Zp_t = {\"u\": 27.029555, \"g\": 28.380922, \"r\": 28.155692, \"i\": 27.856980, \"z\": 27.460876, \"y\": 26.680288}\n",
    "        self.Tb = {\"u\": 0.036516, \"g\": 0.126775, \"r\": 0.103025, \"i\": 0.078245, \"z\": 0.054327, \"y\": 0.026472}\n",
    "        self.gamma = {\"u\": 0.037809, \"g\": 0.038650, \"r\": 0.038948, \"i\": 0.039074, \"z\": 0.039219, \"y\": 0.039300}\n",
    "        self.kAtm = {\"u\": 0.502296, \"g\": 0.213738, \"r\": 0.125886, \"i\": 0.096182, \"z\": 0.068623, \"y\": 0.169504}\n",
    "        self.Cm = {\"u\": 23.390261, \"g\": 24.506791, \"r\": 24.489914, \"i\": 24.372551, \"z\": 24.202753, \"y\": 23.769195}\n",
    "        self.dCm_infinity = {\"u\": 0.371939, \"g\": 0.098515, \"r\": 0.051961, \"i\": 0.036845, \"z\": 0.024581, \"y\": 0.018609}\n",
    "        self.dCm_double = {\"u\": 0.220178, \"g\": 0.049343, \"r\": 0.024140, \"i\": 0.016277, \"z\": 0.010146, \"y\": 0.007225}\n",
    "        self.skyMag = {\"u\": 22.960730, \"g\": 22.257758, \"r\": 21.196590, \"i\": 20.477419, \"z\": 19.599578, \"y\": 18.610405}\n",
    "\n",
    "\n",
    "        self.exptime=30\n",
    "\n",
    "\n",
    "\n",
    "def m5_flat_sed_a(visitFilter, musky, FWHMeff, expTime, airmass, nexp=1, tauCloud=0):\n",
    "    if not hasattr(m5_flat_sed_a, 'Cm'):\n",
    "        # Using Cm / dCm_infinity values calculated for a 1x30s visit.\n",
    "        # This results in an error of about 0.01 mag in u band for 2x15s visits (< in other bands)\n",
    "        # See https://github.com/lsst-pst/survey_strategy/blob/master/fbs_1.3/m5FlatSed%20update.ipynb\n",
    "        # for a more in-depth evaluation.\n",
    "        sev = SysEngVals_a()\n",
    "\n",
    "        m5_flat_sed_a.baseExpTime = sev.exptime\n",
    "        m5_flat_sed_a.Cm = sev.Cm\n",
    "        m5_flat_sed_a.dCm_infinity = sev.dCm_infinity\n",
    "        m5_flat_sed_a.kAtm = sev.kAtm\n",
    "        m5_flat_sed_a.msky = sev.skyMag\n",
    "    # Calculate adjustment if readnoise is significant for exposure time\n",
    "    # (see overview paper, equation 7)\n",
    "    Tscale = expTime / m5_flat_sed_a.baseExpTime * np.power(10.0, -0.4 * (musky - m5_flat_sed_a.msky[visitFilter]))\n",
    "    dCm = 0.\n",
    "    dCm += m5_flat_sed_a.dCm_infinity[visitFilter]\n",
    "    dCm -= 1.25 * np.log10(1 + (10**(0.8 * m5_flat_sed_a.dCm_infinity[visitFilter]) - 1) / Tscale)\n",
    "    # Calculate m5 for 1 exp - 30s and other constants here come from definition of Cm/dCm_infinity\n",
    "    m5 = (m5_flat_sed_a.Cm[visitFilter] + dCm + 0.50 * (musky - 21.0) + 2.5 * np.log10(0.7 / FWHMeff) +\n",
    "          1.25 * np.log10(expTime / 30.0) - m5_flat_sed_a.kAtm[visitFilter] * (airmass - 1.0) - 1.1 * tauCloud)\n",
    "    # Then combine with coadd if >1 exposure\n",
    "    if nexp > 1:\n",
    "        m5 = 1.25 * np.log10(nexp * 10**(0.8 * m5))\n",
    "    return m5"
   ]
  },
  {
   "cell_type": "code",
   "execution_count": 15,
   "id": "young-presentation",
   "metadata": {},
   "outputs": [],
   "source": [
    "class SysEngVals_b(object):\n",
    "     def __init__(self):\n",
    "        self.Zp_t = {\"u\": 27.029555, \"g\": 28.380922, \"r\": 28.155692, \"i\": 27.856980, \"z\": 27.460876, \"y\": 26.680288}\n",
    "        self.Tb = {\"u\": 0.036516, \"g\": 0.126775, \"r\": 0.103025, \"i\": 0.078245, \"z\": 0.054327, \"y\": 0.026472}\n",
    "        self.gamma = {\"u\": 0.038185, \"g\": 0.038743, \"r\": 0.038990, \"i\": 0.039101, \"z\": 0.039235, \"y\": 0.039311}\n",
    "        self.kAtm = {\"u\": 0.502296, \"g\": 0.213738, \"r\": 0.125886, \"i\": 0.096182, \"z\": 0.068623, \"y\": 0.169504}\n",
    "        self.Cm = {\"u\": 23.185970, \"g\": 24.429123, \"r\": 24.445795, \"i\": 24.340469, \"z\": 24.180899, \"y\": 23.752479}\n",
    "        self.dCm_infinity = {\"u\": 0.576230, \"g\": 0.176182, \"r\": 0.096081, \"i\": 0.068928, \"z\": 0.046435, \"y\": 0.035324}\n",
    "        self.dCm_double = {\"u\": 0.362984, \"g\": 0.093056, \"r\": 0.047725, \"i\": 0.033121, \"z\": 0.021447, \"y\": 0.015804}\n",
    "        self.skyMag = {\"u\": 22.960730, \"g\": 22.257758, \"r\": 21.196590, \"i\": 20.477419, \"z\": 19.599578, \"y\": 18.610405}\n",
    "        \n",
    "        # Ah. The point here is that the base exposure time is important, not the total.\n",
    "        self.exptime=15\n",
    "\n",
    "\n",
    "\n",
    "\n",
    "def m5_flat_sed_b(visitFilter, musky, FWHMeff, expTime, airmass, nexp=1, tauCloud=0):\n",
    "    if not hasattr(m5_flat_sed_b, 'Cm'):\n",
    "        # Using Cm / dCm_infinity values calculated for a 1x30s visit.\n",
    "        # This results in an error of about 0.01 mag in u band for 2x15s visits (< in other bands)\n",
    "        # See https://github.com/lsst-pst/survey_strategy/blob/master/fbs_1.3/m5FlatSed%20update.ipynb\n",
    "        # for a more in-depth evaluation.\n",
    "        sev = SysEngVals_b()\n",
    "\n",
    "        m5_flat_sed_b.baseExpTime = sev.exptime\n",
    "        m5_flat_sed_b.Cm = sev.Cm\n",
    "        m5_flat_sed_b.dCm_infinity = sev.dCm_infinity\n",
    "        m5_flat_sed_b.kAtm = sev.kAtm\n",
    "        m5_flat_sed_b.msky = sev.skyMag\n",
    "    # Calculate adjustment if readnoise is significant for exposure time\n",
    "    # (see overview paper, equation 7)\n",
    "    Tscale = expTime / m5_flat_sed_b.baseExpTime * np.power(10.0, -0.4 * (musky - m5_flat_sed_b.msky[visitFilter]))\n",
    "    dCm = 0.\n",
    "    dCm += m5_flat_sed_b.dCm_infinity[visitFilter]\n",
    "    dCm -= 1.25 * np.log10(1 + (10**(0.8 * m5_flat_sed_b.dCm_infinity[visitFilter]) - 1) / Tscale)\n",
    "    # Calculate m5 for 1 exp - 30s and other constants here come from definition of Cm/dCm_infinity\n",
    "    m5 = (m5_flat_sed_b.Cm[visitFilter] + dCm + 0.50 * (musky - 21.0) + 2.5 * np.log10(0.7 / FWHMeff) +\n",
    "          1.25 * np.log10(expTime / 30.0) - m5_flat_sed_b.kAtm[visitFilter] * (airmass - 1.0) - 1.1 * tauCloud)\n",
    "    # Then combine with coadd if >1 exposure\n",
    "    if nexp > 1:\n",
    "        m5 = 1.25 * np.log10(nexp * 10**(0.8 * m5))\n",
    "    return m5"
   ]
  },
  {
   "cell_type": "code",
   "execution_count": 16,
   "id": "therapeutic-albany",
   "metadata": {},
   "outputs": [
    {
     "data": {
      "text/plain": [
       "23.633585113702637"
      ]
     },
     "execution_count": 16,
     "metadata": {},
     "output_type": "execute_result"
    }
   ],
   "source": [
    "m5_flat_sed_b('u', 21., 0.7, 30., 1.1, nexp=1)"
   ]
  },
  {
   "cell_type": "code",
   "execution_count": 17,
   "id": "traditional-ridge",
   "metadata": {},
   "outputs": [
    {
     "data": {
      "text/plain": [
       "23.630600773597383"
      ]
     },
     "execution_count": 17,
     "metadata": {},
     "output_type": "execute_result"
    }
   ],
   "source": [
    "m5_flat_sed_a('u', 21., 0.7, 30., 1.1, nexp=1)"
   ]
  },
  {
   "cell_type": "code",
   "execution_count": null,
   "id": "tutorial-richardson",
   "metadata": {},
   "outputs": [],
   "source": []
  }
 ],
 "metadata": {
  "kernelspec": {
   "display_name": "Python 3",
   "language": "python",
   "name": "python3"
  },
  "language_info": {
   "codemirror_mode": {
    "name": "ipython",
    "version": 3
   },
   "file_extension": ".py",
   "mimetype": "text/x-python",
   "name": "python",
   "nbconvert_exporter": "python",
   "pygments_lexer": "ipython3",
   "version": "3.8.8"
  }
 },
 "nbformat": 4,
 "nbformat_minor": 5
}
