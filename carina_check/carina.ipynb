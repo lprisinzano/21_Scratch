{
 "cells": [
  {
   "cell_type": "code",
   "execution_count": 1,
   "metadata": {},
   "outputs": [],
   "source": [
    "#    import maf packages\n",
    "get_ipython().magic('matplotlib inline')\n",
    "import lsst.sims.maf.plots as plots\n",
    "from mafContrib import TransientAsciiMetric"
   ]
  },
  {
   "cell_type": "code",
   "execution_count": 2,
   "metadata": {},
   "outputs": [],
   "source": [
    "#    import maf packages\n",
    "from __future__ import print_function\n",
    "%matplotlib inline\n",
    "import numpy as np\n",
    "import matplotlib.pyplot as plt\n",
    "import healpy as hp\n",
    "\n",
    "import lsst.sims.maf.db as db\n",
    "import lsst.sims.maf.utils as utils\n",
    "import lsst.sims.maf.metrics as metrics\n",
    "import lsst.sims.maf.slicers as slicers\n",
    "import lsst.sims.maf.stackers as stackers\n",
    "import lsst.sims.maf.metricBundles as metricBundles"
   ]
  },
  {
   "cell_type": "markdown",
   "metadata": {},
   "source": [
    "METTENDO LA CELL SOPRA, PRESA DA PullLightCurves.ipynb, FUNZIONA ANCHE SENZA sympy"
   ]
  },
  {
   "cell_type": "code",
   "execution_count": 3,
   "metadata": {},
   "outputs": [],
   "source": [
    "# Set the database and query\n",
    "#runName = 'baseline_nexp2_v1.7_10yrs'\n",
    "#runName = 'footprint_gp_smoothv1.5_10yrs'\n",
    "#runName = 'combo_dust_v1.6_10yrs'\n",
    "#runName = 'baseline_v1.5_10yrs'\n",
    "#runName = 'baseline_nexp1_v1.6_10yrs'\n",
    "#runName = 'ddf_heavy_v1.6_10yrs'\n",
    "#runName = 'mw_heavy_v1.6_10yrs'\n",
    "#runName = 'ddf_heavy_nexp2_v1.6_10yrs'\n",
    "#runName = 'ddf_dither2.00_v1.7_10yrs'\n",
    "runName = 'carina_v1.7_10yrs'\n",
    "\n",
    "#This next command assumes you have downloaded baseline2018a.db into the tutorials directory in this repo.\n",
    "#Change this path according to your datbase and where it is saved.\n",
    "#opsdb = db.OpsimDatabase('/sims_maf/fbs_1.7/baseline/baseline_nexp2_v1.7_10yrs.db')\n",
    "#opsdb = db.OpsimDatabase('/sims_maf/fbs_1.5/footprints/footprint_gp_smoothv1.5_10yrs.db')\n",
    "#opsdb = db.OpsimDatabase('/sims_maf/fbs_1.6/potential_schedulers/combo_dust_v1.6_10yrs.db')\n",
    "#opsdb = db.OpsimDatabase('/sims_maf/fbs_1.5/baseline/baseline_v1.5_10yrs.db')\n",
    "#opsdb = db.OpsimDatabase('/sims_maf/fbs_1.6/potential_schedulers/baseline_nexp1_v1.6_10yrs.db')\n",
    "#opsdb = db.OpsimDatabase('/sims_maf/fbs_1.6/potential_schedulers/ddf_heavy_v1.6_10yrs.db')\n",
    "#opsdb = db.OpsimDatabase('/sims_maf/fbs_1.6/potential_schedulers/mw_heavy_v1.6_10yrs.db')\n",
    "#opsdb = db.OpsimDatabase('/sims_maf/fbs_1.6/potential_schedulers/ddf_heavy_nexp2_v1.6_10yrs.db')\n",
    "#opsdb = db.OpsimDatabase('/sims_maf/fbs_1.7/ddf_dither/ddf_dither2.00_v1.7_10yrs.db')\n",
    "opsdb = db.OpsimDatabase('carina_v1.7_10yrs.db')\n",
    "\n",
    "# Set the output directory\n",
    "outDir = 'LightCurve-2'\n",
    "resultsDb = db.ResultsDb(outDir)"
   ]
  },
  {
   "cell_type": "code",
   "execution_count": 4,
   "metadata": {},
   "outputs": [],
   "source": [
    "asciiLC = 'source0603396438_whole_CoRoT_LC_NEW_sampled.dat'\n",
    "transMetric = TransientAsciiMetric(asciiLC, surveyDuration=1,mjdCol='observationStartMJD', \n",
    "                                   detectSNR={'u': 5, 'g': 5, 'r': 5, 'i': 5, 'z': 5, 'y': 5},\n",
    "                                   nPreT=0, preT=0, nFilters=0, filterT=None, nPerLC=0, peakOffset=0,\n",
    "                                   dataout=True)"
   ]
  },
  {
   "cell_type": "code",
   "execution_count": 5,
   "metadata": {},
   "outputs": [
    {
     "data": {
      "text/plain": [
       "<matplotlib.legend.Legend at 0x7fe41f483b50>"
      ]
     },
     "execution_count": 5,
     "metadata": {},
     "output_type": "execute_result"
    },
    {
     "data": {
      "image/png": "[encoded data removed]",
      "text/plain": [
       "<Figure size 432x288 with 1 Axes>"
      ]
     },
     "metadata": {
      "needs_background": "light"
     },
     "output_type": "display_data"
    }
   ],
   "source": [
    "# Use the metric to generate a tightly sampled lightcurve, to illustrate what the lightcurve looks like.\n",
    "#filterNames = ['u', 'g', 'r', 'i', 'z', 'y']\n",
    "#filterNames = ['g', 'r', 'i']\n",
    "filterNames = ['r']\n",
    "colors = {'u': 'k', 'g': 'violet', 'r': 'indigo', 'i': 'blue', 'z': 'y', 'y': 'orange'}\n",
    "times = np.arange(0, transMetric.transDuration, 0.5)\n",
    "lc = {}\n",
    "for f in filterNames:\n",
    "    lc[f] = transMetric.make_lightCurve(times, np.array([f]*len(times)))\n",
    "\n",
    "plt.figure()\n",
    "for f in filterNames:\n",
    "    plt.plot(times, lc[f], color=colors[f], label=f)\n",
    "plt.ylim(12.55,12.4)\n",
    "#plt.xlim(0.,8.5) #AGGIUNTO DA ME PER FARE PLOT SOLO 1 SETTIMANA\n",
    "plt.xlabel('Epoch (days)')\n",
    "plt.ylabel('Magnitude')\n",
    "plt.legend(fontsize='smaller', numpoints=1)"
   ]
  },
  {
   "cell_type": "markdown",
   "metadata": {},
   "source": [
    "7 GIORNI"
   ]
  },
  {
   "cell_type": "code",
   "execution_count": 6,
   "metadata": {},
   "outputs": [],
   "source": [
    "# Slicer - we just want to look at what the full lightcurve output looks like, so choose a few representative points.\n",
    "# With the UserPointsSlicer, you can set ra/dec for the places you want to evaluate.\n",
    "# These ra/dec pairs are 1 DD field, 2 WFD fields, and Carina Nebula\n",
    "#ra = np.array([ 34.39339593,  73.58279239,  97.45622484,  161.2592917])\n",
    "#dec = np.array([ -5.09032894,   0.1873572 , -37.70921729, -59.6999444])\n",
    "# These ra/dec pairs are 4 DD fields: MODIFICATO DA QUI https://www.lsst.org/scientists/survey-design/ddf\n",
    "#ra = np.array([ 9.4500,  35.7083333,  53.1250000, 150.1000000])\n",
    "#dec = np.array([ -44.0000 , -4.7500, -28.1000000, 2.1819444])\n",
    "# These ra/dec pairs are 3 DD fields (CIRCA XMM = ESEMPIO, CHANDRA, ELAIS), 1 WFD (= ESEMPIO) field\n",
    "#ra = np.array([ 34.39339593,  53.1250000, 9.4500, 97.45622484])\n",
    "#dec = np.array([ -5.09032894,   -28.1000000 , -44.0000, -37.70921729])\n",
    "ra = np.array([ 161.2592917]) # MODIFICATO DA ME PER CARINA DA: http://simbad.u-strasbg.fr/simbad/sim-id?Ident=Carina+Nebula\n",
    "dec = np.array([ -59.6999444]) # MODIFICATO DA ME PER CARINA DA: http://simbad.u-strasbg.fr/simbad/sim-id?Ident=Carina+Nebula\n",
    "# ESEMPIO SINGOLO CAMPO:\n",
    "#ra = np.array([ 161.2592917])\n",
    "#dec = np.array([ -59.6999444])\n",
    "#ra = np.array([ 53.1250000])\n",
    "#dec = np.array([ -28.1000000])\n",
    "#ra = np.array([ 160.])\n",
    "#dec = np.array([ -60.])\n",
    "slicer = slicers.UserPointsSlicer(ra, dec)\n",
    "\n",
    "# SQL constraint.\n",
    "# select the year of the survey that you want to run \n",
    "year = 0\n",
    "sqlconstraint = 'night between %f and %f '% ((365.25*year,365.25*(year+.1)))\n",
    "lightcurve_metric = metricBundles.MetricBundle(transMetric, slicer, sqlconstraint, runName=runName)\n",
    "#metric = metrics.CountMetric('night')\n",
    "#lightcurve_metric = metricBundles.MetricBundle(metric, slicer, sqlconstraint, runName=runName)"
   ]
  },
  {
   "cell_type": "markdown",
   "metadata": {},
   "source": [
    "MODIFICATA CELL SOPRA PER 36 GIORNI (NON 10 ANNI)"
   ]
  },
  {
   "cell_type": "code",
   "execution_count": 7,
   "metadata": {
    "scrolled": true
   },
   "outputs": [
    {
     "name": "stdout",
     "output_type": "stream",
     "text": [
      "Querying database SummaryAllProps with constraint night between 0.000000 and 36.525000  for columns ['fieldRA', 'filter', 'fiveSigmaDepth', 'observationStartMJD', 'fieldDec']\n",
      "Found 23385 visits\n",
      "Running:  [0]\n",
      "Completed metric generation.\n",
      "Running reduce methods.\n",
      "Running summary statistics.\n",
      "Completed.\n"
     ]
    }
   ],
   "source": [
    "# run the metric\n",
    "bgroup = metricBundles.MetricBundleGroup({0: lightcurve_metric}, opsdb, \n",
    "                                         outDir=outDir, resultsDb=resultsDb)\n",
    "bgroup.runAll()"
   ]
  },
  {
   "cell_type": "code",
   "execution_count": null,
   "metadata": {},
   "outputs": [],
   "source": []
  },
  {
   "cell_type": "code",
   "execution_count": 8,
   "metadata": {},
   "outputs": [
    {
     "ename": "IndexError",
     "evalue": "only integers, slices (`:`), ellipsis (`...`), numpy.newaxis (`None`) and integer or boolean arrays are valid indices",
     "output_type": "error",
     "traceback": [
      "\u001b[0;31m---------------------------------------------------------------------------\u001b[0m",
      "\u001b[0;31mIndexError\u001b[0m                                Traceback (most recent call last)",
      "\u001b[0;32m<ipython-input-8-e8d69caccfb2>\u001b[0m in \u001b[0;36m<module>\u001b[0;34m\u001b[0m\n\u001b[1;32m      1\u001b[0m \u001b[0;32mfor\u001b[0m \u001b[0mi\u001b[0m\u001b[0;34m,\u001b[0m \u001b[0mdata\u001b[0m \u001b[0;32min\u001b[0m \u001b[0menumerate\u001b[0m\u001b[0;34m(\u001b[0m\u001b[0mlightcurve_metric\u001b[0m\u001b[0;34m.\u001b[0m\u001b[0mmetricValues\u001b[0m\u001b[0;34m)\u001b[0m\u001b[0;34m:\u001b[0m\u001b[0;34m\u001b[0m\u001b[0;34m\u001b[0m\u001b[0m\n\u001b[0;32m----> 2\u001b[0;31m     \u001b[0;32mfor\u001b[0m \u001b[0mlcN\u001b[0m \u001b[0;32min\u001b[0m \u001b[0mnp\u001b[0m\u001b[0;34m.\u001b[0m\u001b[0munique\u001b[0m\u001b[0;34m(\u001b[0m\u001b[0mdata\u001b[0m\u001b[0;34m[\u001b[0m\u001b[0;34m'lcNumber'\u001b[0m\u001b[0;34m]\u001b[0m\u001b[0;34m)\u001b[0m\u001b[0;34m:\u001b[0m\u001b[0;34m\u001b[0m\u001b[0;34m\u001b[0m\u001b[0m\n\u001b[0m\u001b[1;32m      3\u001b[0m         \u001b[0mmatch\u001b[0m \u001b[0;34m=\u001b[0m \u001b[0mnp\u001b[0m\u001b[0;34m.\u001b[0m\u001b[0mwhere\u001b[0m\u001b[0;34m(\u001b[0m\u001b[0mdata\u001b[0m\u001b[0;34m[\u001b[0m\u001b[0;34m'lcNumber'\u001b[0m\u001b[0;34m]\u001b[0m \u001b[0;34m==\u001b[0m \u001b[0mlcN\u001b[0m\u001b[0;34m)\u001b[0m\u001b[0;34m\u001b[0m\u001b[0;34m\u001b[0m\u001b[0m\n\u001b[1;32m      4\u001b[0m         \u001b[0mplt\u001b[0m\u001b[0;34m.\u001b[0m\u001b[0mfigure\u001b[0m\u001b[0;34m(\u001b[0m\u001b[0;34m)\u001b[0m\u001b[0;34m\u001b[0m\u001b[0;34m\u001b[0m\u001b[0m\n\u001b[1;32m      5\u001b[0m         \u001b[0mepoch\u001b[0m \u001b[0;34m=\u001b[0m \u001b[0mdata\u001b[0m\u001b[0;34m[\u001b[0m\u001b[0;34m'epoch'\u001b[0m\u001b[0;34m]\u001b[0m\u001b[0;34m[\u001b[0m\u001b[0mmatch\u001b[0m\u001b[0;34m]\u001b[0m\u001b[0;34m\u001b[0m\u001b[0;34m\u001b[0m\u001b[0m\n",
      "\u001b[0;32m~/lsst/conda/miniconda3-py38_4.9.2/envs/lsst-scipipe-0.4.1/lib/python3.8/site-packages/numpy/ma/core.py\u001b[0m in \u001b[0;36m__getitem__\u001b[0;34m(self, indx)\u001b[0m\n\u001b[1;32m   3217\u001b[0m         \u001b[0;31m# mask of being reshaped if it hasn't been set up properly yet\u001b[0m\u001b[0;34m\u001b[0m\u001b[0;34m\u001b[0m\u001b[0;34m\u001b[0m\u001b[0m\n\u001b[1;32m   3218\u001b[0m         \u001b[0;31m# So it's easier to stick to the current version\u001b[0m\u001b[0;34m\u001b[0m\u001b[0;34m\u001b[0m\u001b[0;34m\u001b[0m\u001b[0m\n\u001b[0;32m-> 3219\u001b[0;31m         \u001b[0mdout\u001b[0m \u001b[0;34m=\u001b[0m \u001b[0mself\u001b[0m\u001b[0;34m.\u001b[0m\u001b[0mdata\u001b[0m\u001b[0;34m[\u001b[0m\u001b[0mindx\u001b[0m\u001b[0;34m]\u001b[0m\u001b[0;34m\u001b[0m\u001b[0;34m\u001b[0m\u001b[0m\n\u001b[0m\u001b[1;32m   3220\u001b[0m         \u001b[0m_mask\u001b[0m \u001b[0;34m=\u001b[0m \u001b[0mself\u001b[0m\u001b[0;34m.\u001b[0m\u001b[0m_mask\u001b[0m\u001b[0;34m\u001b[0m\u001b[0;34m\u001b[0m\u001b[0m\n\u001b[1;32m   3221\u001b[0m \u001b[0;34m\u001b[0m\u001b[0m\n",
      "\u001b[0;31mIndexError\u001b[0m: only integers, slices (`:`), ellipsis (`...`), numpy.newaxis (`None`) and integer or boolean arrays are valid indices"
     ]
    }
   ],
   "source": [
    "for i, data in enumerate(lightcurve_metric.metricValues):\n",
    "    for lcN in np.unique(data['lcNumber']):\n",
    "        match = np.where(data['lcNumber'] == lcN)\n",
    "        plt.figure()\n",
    "        epoch = data['epoch'][match]\n",
    "        mjd = data['expMJD'][match]\n",
    "        mags = data['lcMag'][match]\n",
    "        filters = data['filter'][match]\n",
    "        for f in filterNames:\n",
    "            filtermatch = np.where(filters == f)\n",
    "            plt.plot(times - epoch[0] + mjd[0], lc[f], color=colors[f])\n",
    "            plt.plot(mjd[filtermatch], mags[filtermatch], 'o', color=colors[f], label=f)\n",
    "            print(mjd[filtermatch],mags[filtermatch])\n",
    "            print(len(mjd[filtermatch]))\n",
    "            #print(max(mjd))\n",
    "        plt.ylim(plt.ylim()[::-1]) # NELL'ESEMPIO ERA CON QUESTO\n",
    "        #plt.ylim(12.55,12.4) #AGGIUNTO DA ME PER FARE PLOT SOLO 1 SETTIMANA\n",
    "        #plt.xlim(59865.,59871.) #AGGIUNTO DA ME PER FARE PLOT SOLO 1 SETTIMANA\n",
    "        #plt.xlim(times[0] - epoch[0] + mjd[0] - 2, times[0] - epoch[0] + mjd[0] + 195)\n",
    "        plt.legend(ncol = 2, loc = (.8,.8), numpoints=1, fontsize='smaller') \n",
    "        plt.xlabel('MJD')\n",
    "        plt.ylabel('Mags')\n",
    "        plt.title('Field %d at %f/%f, lightcurve %d' % (i, np.degrees(slicer.slicePoints['ra'][i]), \n",
    "                                                        np.degrees(slicer.slicePoints['dec'][i]), lcN))\n",
    "        plt.show()"
   ]
  },
  {
   "cell_type": "code",
   "execution_count": null,
   "metadata": {},
   "outputs": [],
   "source": [
    "metric = TransientAsciiMetric(asciiLC, surveyDuration=1,mjdCol='observationStartMJD',\n",
    "                              detectSNR={'u': 5, 'g': 5, 'r': 5, 'i': 5, 'z': 5, 'y': 5},\n",
    "                              nPreT=3, preT=5, nFilters=3, filterT=30, nPerLC=2, peakOffset=0,\n",
    "                              dataout=False)\n",
    "slicer = slicers.HealpixSlicer(nside=16)\n",
    "year = 0\n",
    "sqlconstraint = 'night between %d and %d' % (365.25 * year, 365.25 * (year + 9)) # PRIMA ERA +10 E NON +9\n",
    "\n",
    "plotFuncs = [plots.HealpixSkyMap(), plots.HealpixHistogram()]\n",
    "plotDict = {'colorMin': 0, 'colorMax': 1}\n",
    "\n",
    "summaryMetrics = [metrics.MeanMetric(), metrics.RmsMetric()]\n",
    "\n",
    "bundle = metricBundles.MetricBundle(metric, slicer, sqlconstraint, \n",
    "                                    runName=runName, summaryMetrics=summaryMetrics,\n",
    "                                    plotDict=plotDict, plotFuncs=plotFuncs)"
   ]
  },
  {
   "cell_type": "code",
   "execution_count": null,
   "metadata": {},
   "outputs": [],
   "source": [
    "bundlegroup = metricBundles.MetricBundleGroup({0: bundle}, opsdb, outDir=outDir, resultsDb=resultsDb)\n",
    "bundlegroup.runAll()"
   ]
  },
  {
   "cell_type": "code",
   "execution_count": null,
   "metadata": {},
   "outputs": [],
   "source": [
    "bundlegroup.plotAll(closefigs=False)"
   ]
  },
  {
   "cell_type": "code",
   "execution_count": null,
   "metadata": {},
   "outputs": [],
   "source": [
    "print (bundle.summaryValues)"
   ]
  },
  {
   "cell_type": "code",
   "execution_count": null,
   "metadata": {},
   "outputs": [],
   "source": []
  }
 ],
 "metadata": {
  "kernelspec": {
   "display_name": "Python 3",
   "language": "python",
   "name": "python3"
  },
  "language_info": {
   "codemirror_mode": {
    "name": "ipython",
    "version": 3
   },
   "file_extension": ".py",
   "mimetype": "text/x-python",
   "name": "python",
   "nbconvert_exporter": "python",
   "pygments_lexer": "ipython3",
   "version": "3.8.8"
  }
 },
 "nbformat": 4,
 "nbformat_minor": 4
}
