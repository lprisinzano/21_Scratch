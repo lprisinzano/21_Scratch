{
 "cells": [
  {
   "cell_type": "markdown",
   "id": "silent-cause",
   "metadata": {},
   "source": [
    "Let's see if we can make some metrics that are specific to the LMC and SMC"
   ]
  },
  {
   "cell_type": "code",
   "execution_count": 1,
   "id": "separated-structure",
   "metadata": {},
   "outputs": [],
   "source": [
    "from lsst.sims.maf.metrics.baseMetric import BaseMetric\n",
    "import lsst.sims.maf.utils as mafUtils\n",
    "import lsst.sims.utils as utils\n",
    "from scipy import interpolate\n",
    "\n",
    "%matplotlib inline\n",
    "import numpy as np\n",
    "import matplotlib.pyplot as plt\n",
    "import healpy as hp\n",
    "\n",
    "import lsst.sims.maf.db as db\n",
    "import lsst.sims.maf.utils as utils\n",
    "import lsst.sims.maf.metrics as metrics\n",
    "import lsst.sims.maf.slicers as slicers\n",
    "import lsst.sims.maf.stackers as stackers\n",
    "import lsst.sims.maf.metricBundles as metricBundles\n",
    "\n",
    "from lsst.sims.utils import _galacticFromEquatorial\n",
    "from lsst.sims.photUtils import Dust_values"
   ]
  },
  {
   "cell_type": "code",
   "execution_count": 2,
   "id": "posted-positive",
   "metadata": {},
   "outputs": [],
   "source": [
    "# Could use the period detect metric!  Just need to add in the extra uncertainty from crowding I think. Maybe also dust.\n"
   ]
  },
  {
   "cell_type": "code",
   "execution_count": null,
   "id": "breeding-engine",
   "metadata": {},
   "outputs": [],
   "source": []
  }
 ],
 "metadata": {
  "kernelspec": {
   "display_name": "Python 3",
   "language": "python",
   "name": "python3"
  },
  "language_info": {
   "codemirror_mode": {
    "name": "ipython",
    "version": 3
   },
   "file_extension": ".py",
   "mimetype": "text/x-python",
   "name": "python",
   "nbconvert_exporter": "python",
   "pygments_lexer": "ipython3",
   "version": "3.8.8"
  }
 },
 "nbformat": 4,
 "nbformat_minor": 5
}
