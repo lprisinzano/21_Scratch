{
 "cells": [
  {
   "cell_type": "markdown",
   "metadata": {},
   "source": [
    "Let's make a metric that lets us quantify the uncertainty in a shape measured off a serries of images\n",
    "\n",
    "For the systematic. It might make sense to assume a perfectly circular object, then compute the SNR on a systematic effect, say, a stretch in the x-dimension. "
   ]
  },
  {
   "cell_type": "code",
   "execution_count": 2,
   "metadata": {},
   "outputs": [],
   "source": [
    "%matplotlib inline\n",
    "import numpy as np\n",
    "import matplotlib.pyplot as plt\n",
    "import healpy as hp\n",
    "\n",
    "import lsst.sims.maf.db as db\n",
    "import lsst.sims.maf.utils as utils\n",
    "import lsst.sims.maf.metrics as metrics\n",
    "import lsst.sims.maf.slicers as slicers\n",
    "import lsst.sims.maf.stackers as stackers\n",
    "import lsst.sims.maf.metricBundles as metricBundles"
   ]
  },
  {
   "cell_type": "code",
   "execution_count": null,
   "metadata": {},
   "outputs": [],
   "source": [
    "class Size_precision_metric(metrics.BaseMetric):\n",
    "    \"\"\"\n",
    "    \n",
    "    Parameters\n",
    "    ----------\n",
    "    pixscale : float (0.2)\n",
    "        The pixelscale of the CCD, arsec/pix (0.2).\n",
    "    fwhm_object : float (3.)\n",
    "        The FWHM of the fiducial object who's shape is being measured, arcseconds (3.).\n",
    "    \n",
    "        \n",
    "    stellar_density_limit : float (None)\n",
    "        XXX--to add, put in a limit where if the stellar density is too high, returns weight of 0.\n",
    "    \n",
    "    \"\"\"\n",
    "    \n",
    "    def __init__(self,seeingCol='seeingFwhmGeom', metricName=None, pixscale=0.2, \n",
    "                 fwhm_object=3., peak_flux_object=100., stellar_density_limit=None,\n",
    "                 filters='gri', filterCol='filter', stellar_ref_peak=5000.,\n",
    "                 m5Col='fiveSigmaDepth', maps=['StellarDensityMap', 'DustMap'], \n",
    "                 return_weights=False, **kwargs):\n",
    "        self.seeingCol = seeingCol\n",
    "        self.m5Col = m5Col\n",
    "        self.pixscale = pixscale\n",
    "        self.fwhm_object = fwhm_object\n",
    "        self.peak_flux_object = peak_flux_object\n",
    "        self.filterCol = filterCol\n",
    "        self.return_weights = return_weights\n",
    "        self.stellar_ref_peak = stellar_ref_peak\n",
    "        cols =[seeingCol, m5Col, filterCol]\n",
    "        super().__init__(col=cols, maps=maps, units=units, metricName=metricName, **kwargs)\n",
    "        \n",
    "    def run(self, dataSlice, slicepoint=None):\n",
    "        peak_fluxes = dataSlice[self.seeingCol]*0\n",
    "        for filtername in self.filters:\n",
    "            # XXX--apply dust extinction to the peak flux\n",
    "            # XXX--apply airmass extinction to the peak fluxes\n",
    "            \n",
    "        \n",
    "        # Let's use the simple equation from: http://articles.adsabs.harvard.edu//full/1992PASP..104.1104L/0001105.000.html\n",
    "        sigma_fwhm_object_predeconv = 1.4*self.fwhm_object*(self.pixscale/self.fwhm_object)**0.5*noise_at_peak/peak_fluxes\n",
    "        \n",
    "        # compute the uncertainty in the shape of a psf from a star on the image. Not going to bother with dust and airamss on this\n",
    "        sigma_fwhm_refstar = xxx\n",
    "        \n",
    "        sigma_fwhm_object = (sigma_fwhm_object_predeconv**2 + sigma_fwhm_refstar**2)**0.5\n",
    "        if self.return_weights:\n",
    "            return 1./sigma_fwhm_object**2\n",
    "        else:\n",
    "            result = # xxx-sum up the uncertainties properly\n",
    "            return result\n",
    "        \n",
    "class Systematic_angle_metric(metrics.BaseMetric):\n",
    "    \"\"\"Compute how strongly systematics are canceled in a serries of shape observations\n",
    "    \"\"\"\n",
    "    \n",
    "    def __init__(self, angleCol='rotTelPos', mod=90., shape_metric=None,\n",
    "                 **kwargs):\n",
    "        if shape_metric is None:\n",
    "            self.shape_metric = Shape_precision_metric(return_weights=True)\n",
    "        \n",
    "        self.mod = np.radians(mod)\n",
    "        self.angleCol = angleCol\n",
    "        super().__init__(col=cols, maps=maps, units=units, metricName=metricName, **kwargs)\n",
    "        \n",
    "    def run(self, dataSlice, slicepoint=None):\n",
    "        weights = self.shape_metric(dataSlice, slicepoint=slicePoint)\n",
    "        angles = dataSlice[self.angleCol] % self.mod\n",
    "        # factor of 2 to make range between 0-180 deg. \n",
    "        x_val = np.cos(angles*2)\n",
    "        # Compute the weighted mean\n",
    "        x_wmean = np.sum(x_val*weights)/np.sum(weights)\n",
    "        \n",
    "        # Could do systematic in x and systematic at 45 degrees (I think uncert in x and y will be same)\n",
    "        \n",
    "        \n",
    "    "
   ]
  },
  {
   "cell_type": "code",
   "execution_count": 33,
   "metadata": {},
   "outputs": [],
   "source": [
    "## Suppose we have an object with an axial ratio of 2/1\n",
    "a=2.\n",
    "b=1.\n",
    "\n",
    "theta = np.radians(np.arange(0,360.,1))\n",
    "\n",
    "a_x = a*np.cos(theta)\n",
    "a_y = a*np.sin(theta)\n",
    "\n",
    "b_x = b*np.sin(theta)\n",
    "b_y = b*np.cos(theta)"
   ]
  },
  {
   "cell_type": "code",
   "execution_count": 34,
   "metadata": {},
   "outputs": [
    {
     "data": {
      "text/plain": [
       "[<matplotlib.lines.Line2D at 0x7fe046b61fd0>]"
      ]
     },
     "execution_count": 34,
     "metadata": {},
     "output_type": "execute_result"
    },
    {
     "data": {
      "image/png": "[encoded data removed]",
      "text/plain": [
       "<Figure size 432x288 with 1 Axes>"
      ]
     },
     "metadata": {
      "needs_background": "light"
     },
     "output_type": "display_data"
    }
   ],
   "source": [
    "plt.plot(a_x, a_y)\n",
    "plt.plot(b_x, b_y)"
   ]
  },
  {
   "cell_type": "code",
   "execution_count": 35,
   "metadata": {},
   "outputs": [],
   "source": [
    "# Now we introduce a systematic that distorts the x-axis to be 5% larger than it should be\n",
    "d=1.05\n",
    "a_dx = a_x*d\n",
    "b_dx = b_x*d"
   ]
  },
  {
   "cell_type": "code",
   "execution_count": 36,
   "metadata": {},
   "outputs": [],
   "source": [
    "a_d = (a_dx**2+a_y**2)**.5\n",
    "b_d = (b_dx**2+b_y**2)**.5"
   ]
  },
  {
   "cell_type": "code",
   "execution_count": null,
   "metadata": {},
   "outputs": [],
   "source": []
  },
  {
   "cell_type": "code",
   "execution_count": 40,
   "metadata": {},
   "outputs": [
    {
     "data": {
      "text/plain": [
       "Text(0, 0.5, 'a/b (should be 2)')"
      ]
     },
     "execution_count": 40,
     "metadata": {},
     "output_type": "execute_result"
    },
    {
     "data": {
      "image/png": "[encoded data removed]",
      "text/plain": [
       "<Figure size 432x288 with 1 Axes>"
      ]
     },
     "metadata": {
      "needs_background": "light"
     },
     "output_type": "display_data"
    }
   ],
   "source": [
    "plt.plot(np.degrees(theta), a_d/b_d)\n",
    "plt.xlabel('theta (degrees)')\n",
    "plt.ylabel('a/b (should be 2)')"
   ]
  },
  {
   "cell_type": "code",
   "execution_count": null,
   "metadata": {},
   "outputs": [],
   "source": [
    "# So, fitting a sin wave of unknown phase. I think the best way would be to check 1) is the phase coverage adequate and \n",
    "# 2) what would be the uncertainty on the amplitude say, if everything was at amplitude 1/2, since that's what it would be on average\n"
   ]
  },
  {
   "cell_type": "code",
   "execution_count": null,
   "metadata": {},
   "outputs": [],
   "source": []
  },
  {
   "cell_type": "code",
   "execution_count": null,
   "metadata": {},
   "outputs": [],
   "source": []
  }
 ],
 "metadata": {
  "kernelspec": {
   "display_name": "Python 3",
   "language": "python",
   "name": "python3"
  },
  "language_info": {
   "codemirror_mode": {
    "name": "ipython",
    "version": 3
   },
   "file_extension": ".py",
   "mimetype": "text/x-python",
   "name": "python",
   "nbconvert_exporter": "python",
   "pygments_lexer": "ipython3",
   "version": "3.7.8"
  }
 },
 "nbformat": 4,
 "nbformat_minor": 4
}
