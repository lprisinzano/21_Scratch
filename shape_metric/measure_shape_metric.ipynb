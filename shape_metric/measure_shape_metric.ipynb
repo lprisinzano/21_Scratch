{
 "cells": [
  {
   "cell_type": "markdown",
   "metadata": {},
   "source": [
    "Let's make a metric that lets us quantify the uncertainty in a shape measured off a serries of images"
   ]
  },
  {
   "cell_type": "code",
   "execution_count": 1,
   "metadata": {},
   "outputs": [],
   "source": [
    "%matplotlib inline\n",
    "import numpy as np\n",
    "import matplotlib.pyplot as plt\n",
    "import healpy as hp\n",
    "\n",
    "import lsst.sims.maf.db as db\n",
    "import lsst.sims.maf.utils as utils\n",
    "import lsst.sims.maf.metrics as metrics\n",
    "import lsst.sims.maf.slicers as slicers\n",
    "import lsst.sims.maf.stackers as stackers\n",
    "import lsst.sims.maf.metricBundles as metricBundles"
   ]
  },
  {
   "cell_type": "code",
   "execution_count": null,
   "metadata": {},
   "outputs": [],
   "source": [
    "class Shape_precision_metric(metrics.BaseMetric):\n",
    "    \"\"\"\n",
    "    \n",
    "    Parameters\n",
    "    ----------\n",
    "    pixscale : float (0.2)\n",
    "        The pixelscale of the CCD, arsec/pix (0.2).\n",
    "    fwhm_object : float (3.)\n",
    "        The FWHM of the fiducial object who's shape is being measured, arcseconds (3.).\n",
    "    \n",
    "        \n",
    "    stellar_density_limit : float (None)\n",
    "        XXX--to add, put in a limit where if the stellar density is too high, returns weight of 0.\n",
    "    \n",
    "    \"\"\"\n",
    "    \n",
    "    def __init__(self,seeingCol='seeingFwhmGeom', metricName=None, pixscale=0.2, \n",
    "                 fwhm_object=3., peak_flux_object=100., stellar_density_limit=None,\n",
    "                 filters='gri', filterCol='filter'\n",
    "                 m5Col='fiveSigmaDepth', maps=['StellarDensityMap', 'DustMap'], **kwargs):\n",
    "        self.seeingCol = seeingCol\n",
    "        self.m5Col = m5Col\n",
    "        self.pixscale = pixscale\n",
    "        self.fwhm_object = fwhm_object\n",
    "        self.peak_flux_object = peak_flux_object\n",
    "        self.filterCol = filterCol\n",
    "        cols =[seeingCol, m5Col, filterCol]\n",
    "        super().__init__(col=cols, maps=maps, units=units, metricName=metricName, **kwargs)\n",
    "        \n",
    "    def run(self, dataSlice, slicepoint=None):\n",
    "        peak_fluxes = dataSlice[self.seeingCol]*0\n",
    "        for filtername in self.filters:\n",
    "            # XXX--apply dust extinction to the peak flux\n",
    "            # XXX--apply airmass extinction to the peak fluxes\n",
    "            \n",
    "        \n",
    "    "
   ]
  }
 ],
 "metadata": {
  "kernelspec": {
   "display_name": "Python 3",
   "language": "python",
   "name": "python3"
  },
  "language_info": {
   "codemirror_mode": {
    "name": "ipython",
    "version": 3
   },
   "file_extension": ".py",
   "mimetype": "text/x-python",
   "name": "python",
   "nbconvert_exporter": "python",
   "pygments_lexer": "ipython3",
   "version": "3.7.8"
  }
 },
 "nbformat": 4,
 "nbformat_minor": 4
}
