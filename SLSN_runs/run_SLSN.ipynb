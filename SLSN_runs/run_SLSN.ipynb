{
 "cells": [
  {
   "cell_type": "code",
   "execution_count": 1,
   "id": "endless-hazard",
   "metadata": {},
   "outputs": [
    {
     "name": "stderr",
     "output_type": "stream",
     "text": [
      "/Users/yoachim/gitRepos/sims_utils/python/lsst/sims/utils/Site.py:132: SyntaxWarning: \"is\" with a literal. Did you mean \"==\"?\n",
      "  if self._name is 'LSST':\n",
      "/Users/yoachim/gitRepos/sims_maf/python/lsst/sims/maf/slicers/opsimFieldSlicer.py:127: SyntaxWarning: \"is not\" with a literal. Did you mean \"!=\"?\n",
      "  (key is not 'bins') & (key is not 'binCol'):\n",
      "/Users/yoachim/gitRepos/sims_maf/python/lsst/sims/maf/slicers/opsimFieldSlicer.py:127: SyntaxWarning: \"is not\" with a literal. Did you mean \"!=\"?\n",
      "  (key is not 'bins') & (key is not 'binCol'):\n",
      "/Users/yoachim/lsst/stack/miniconda3-py38_4.9.2-0.4.3/DarwinX86/sims_catalogs/2.13.0.sims-7-g07da441+c5dc4214a0/python/lsst/sims/catalogs/db/dbConnection.py:424: SyntaxWarning: \"is not\" with a literal. Did you mean \"!=\"?\n",
      "  if dataString is not '':\n",
      "/Users/yoachim/gitRepos/sims_maf/python/lsst/sims/maf/db/opsimDatabase.py:95: SyntaxWarning: \"is\" with a literal. Did you mean \"==\"?\n",
      "  if groupBy is 'default' and tableName==self.defaultTable:\n",
      "/Users/yoachim/gitRepos/sims_maf/python/lsst/sims/maf/db/opsimDatabase.py:97: SyntaxWarning: \"is\" with a literal. Did you mean \"==\"?\n",
      "  if groupBy is 'default' and tableName!=self.defaultTable:\n"
     ]
    }
   ],
   "source": [
    "import lsst.sims.maf.metricBundles as metricBundles\n",
    "import lsst.sims.maf.slicers as slicers\n",
    "import lsst.sims.maf.db as db\n",
    "import lsst.sims.maf.utils as utils\n",
    "import sqlite3\n",
    "import numpy as np\n",
    "from lsst.sims.maf.metrics.snSLMetric import SNSLMetric\n",
    "import lsst.sims.maf.metrics as metrics\n",
    "import healpy as hp\n",
    "import os\n",
    "\n",
    "import matplotlib.pylab as plt\n",
    "%matplotlib inline\n",
    "import datetime"
   ]
  },
  {
   "cell_type": "code",
   "execution_count": 3,
   "id": "higher-morocco",
   "metadata": {},
   "outputs": [],
   "source": [
    "path_where_version_folder_is_stored = \"dbs\"\n",
    "version = 'v1.5' # \"v1.5\"\n",
    "\n",
    "list_of_databases = os.listdir(\"%s\"% (path_where_version_folder_is_stored))\n"
   ]
  },
  {
   "cell_type": "code",
   "execution_count": null,
   "id": "presidential-scanning",
   "metadata": {},
   "outputs": [
    {
     "name": "stdout",
     "output_type": "stream",
     "text": [
      "0 of 86\n",
      "2021-03-30 18:46:40.722643\n",
      "Healpix slicer using NSIDE=64, approximate resolution 54.967783 arcminutes\n",
      "<lsst.sims.maf.metrics.snSLMetric.SNSLMetric object at 0x7fa82130ca90>\n",
      "Querying database SummaryAllProps with no constraint for columns ['fiveSigmaDepth', 'filter', 'observationId', 'visitTime', 'visitExposureTime', 'observationStartMJD', 'fieldRA', 'fieldDec', 'numExposures', 'night'].\n",
      "Found 2056927 visits\n",
      "Running:  ['baseline_2snaps_v1_5_10yrs_SNSLMetric_HEAL']\n"
     ]
    },
    {
     "name": "stderr",
     "output_type": "stream",
     "text": [
      "/Users/yoachim/gitRepos/sims_maf/python/lsst/sims/maf/maps/dustMap.py:24: UserWarning: Slicer value of nside (64) different from map value (128), using slicer value\n",
      "  warnings.warn('Slicer value of nside (%i) different from map value (%i), using slicer value'\n"
     ]
    },
    {
     "name": "stdout",
     "output_type": "stream",
     "text": [
      "Completed metric generation.\n",
      "Running reduce methods.\n",
      "Running summary statistics.\n",
      "Completed.\n",
      "Plotting figures with \"\" constraint now.\n"
     ]
    },
    {
     "name": "stderr",
     "output_type": "stream",
     "text": [
      "/Users/yoachim/lsst/conda/miniconda3-py38_4.9.2/envs/lsst-scipipe-0.4.3/lib/python3.8/site-packages/healpy/projaxes.py:202: MatplotlibDeprecationWarning: Passing parameters norm and vmin/vmax simultaneously is deprecated since 3.3 and will become an error two minor releases later. Please pass vmin/vmax directly to the norm when creating it.\n",
      "  aximg = self.imshow(\n",
      "/Users/yoachim/lsst/conda/miniconda3-py38_4.9.2/envs/lsst-scipipe-0.4.3/lib/python3.8/site-packages/healpy/pixelfunc.py:1581: UserWarning: monopole: 0.000190257  dipole: lon: 70.9309, lat: -72.7282, amp: 0.000116894\n",
      "  warnings.warn(\n"
     ]
    },
    {
     "name": "stdout",
     "output_type": "stream",
     "text": [
      "Plotting complete.\n",
      "baseline_2snaps_v1.5_10yrs.db: 7.460252\n",
      "1 of 86\n",
      "2021-03-30 19:05:00.909575\n",
      "Healpix slicer using NSIDE=64, approximate resolution 54.967783 arcminutes\n"
     ]
    },
    {
     "name": "stderr",
     "output_type": "stream",
     "text": [
      "/Users/yoachim/lsst/conda/miniconda3-py38_4.9.2/envs/lsst-scipipe-0.4.3/lib/python3.8/site-packages/healpy/projaxes.py:920: MatplotlibDeprecationWarning: You are modifying the state of a globally registered colormap. In future versions, you will not be able to modify a registered colormap in-place. To remove this warning, you can make a copy of the colormap first. cmap = copy.copy(mpl.cm.get_cmap(\"viridis\"))\n",
      "  newcm.set_over(newcm(1.0))\n",
      "/Users/yoachim/lsst/conda/miniconda3-py38_4.9.2/envs/lsst-scipipe-0.4.3/lib/python3.8/site-packages/healpy/projaxes.py:921: MatplotlibDeprecationWarning: You are modifying the state of a globally registered colormap. In future versions, you will not be able to modify a registered colormap in-place. To remove this warning, you can make a copy of the colormap first. cmap = copy.copy(mpl.cm.get_cmap(\"viridis\"))\n",
      "  newcm.set_under(bgcolor)\n",
      "/Users/yoachim/lsst/conda/miniconda3-py38_4.9.2/envs/lsst-scipipe-0.4.3/lib/python3.8/site-packages/healpy/projaxes.py:922: MatplotlibDeprecationWarning: You are modifying the state of a globally registered colormap. In future versions, you will not be able to modify a registered colormap in-place. To remove this warning, you can make a copy of the colormap first. cmap = copy.copy(mpl.cm.get_cmap(\"viridis\"))\n",
      "  newcm.set_bad(badcolor)\n",
      "/Users/yoachim/lsst/conda/miniconda3-py38_4.9.2/envs/lsst-scipipe-0.4.3/lib/python3.8/site-packages/healpy/projaxes.py:202: MatplotlibDeprecationWarning: Passing parameters norm and vmin/vmax simultaneously is deprecated since 3.3 and will become an error two minor releases later. Please pass vmin/vmax directly to the norm when creating it.\n",
      "  aximg = self.imshow(\n"
     ]
    },
    {
     "name": "stdout",
     "output_type": "stream",
     "text": [
      "<lsst.sims.maf.metrics.snSLMetric.SNSLMetric object at 0x7fa7c8042160>\n",
      "Querying database SummaryAllProps with no constraint for columns ['fiveSigmaDepth', 'filter', 'observationId', 'visitTime', 'visitExposureTime', 'observationStartMJD', 'fieldRA', 'fieldDec', 'numExposures', 'night'].\n",
      "Found 2228459 visits\n",
      "Running:  ['footprint_newAv1_5_10yrs_SNSLMetric_HEAL']\n"
     ]
    },
    {
     "name": "stderr",
     "output_type": "stream",
     "text": [
      "/Users/yoachim/gitRepos/sims_maf/python/lsst/sims/maf/maps/dustMap.py:24: UserWarning: Slicer value of nside (64) different from map value (128), using slicer value\n",
      "  warnings.warn('Slicer value of nside (%i) different from map value (%i), using slicer value'\n"
     ]
    },
    {
     "name": "stdout",
     "output_type": "stream",
     "text": [
      "Completed metric generation.\n",
      "Running reduce methods.\n",
      "Running summary statistics.\n",
      "Completed.\n",
      "Plotting figures with \"\" constraint now.\n"
     ]
    },
    {
     "name": "stderr",
     "output_type": "stream",
     "text": [
      "/Users/yoachim/lsst/conda/miniconda3-py38_4.9.2/envs/lsst-scipipe-0.4.3/lib/python3.8/site-packages/healpy/projaxes.py:202: MatplotlibDeprecationWarning: Passing parameters norm and vmin/vmax simultaneously is deprecated since 3.3 and will become an error two minor releases later. Please pass vmin/vmax directly to the norm when creating it.\n",
      "  aximg = self.imshow(\n",
      "/Users/yoachim/lsst/conda/miniconda3-py38_4.9.2/envs/lsst-scipipe-0.4.3/lib/python3.8/site-packages/healpy/pixelfunc.py:1581: UserWarning: monopole: 0.000161374  dipole: lon: 94.4223, lat: -69.3303, amp: 0.000128496\n",
      "  warnings.warn(\n"
     ]
    },
    {
     "name": "stdout",
     "output_type": "stream",
     "text": [
      "Plotting complete.\n",
      "footprint_newAv1.5_10yrs.db: 7.186111\n",
      "2 of 86\n",
      "2021-03-30 19:24:48.526468\n",
      "Healpix slicer using NSIDE=64, approximate resolution 54.967783 arcminutes\n"
     ]
    },
    {
     "name": "stderr",
     "output_type": "stream",
     "text": [
      "/Users/yoachim/lsst/conda/miniconda3-py38_4.9.2/envs/lsst-scipipe-0.4.3/lib/python3.8/site-packages/healpy/projaxes.py:920: MatplotlibDeprecationWarning: You are modifying the state of a globally registered colormap. In future versions, you will not be able to modify a registered colormap in-place. To remove this warning, you can make a copy of the colormap first. cmap = copy.copy(mpl.cm.get_cmap(\"viridis\"))\n",
      "  newcm.set_over(newcm(1.0))\n",
      "/Users/yoachim/lsst/conda/miniconda3-py38_4.9.2/envs/lsst-scipipe-0.4.3/lib/python3.8/site-packages/healpy/projaxes.py:921: MatplotlibDeprecationWarning: You are modifying the state of a globally registered colormap. In future versions, you will not be able to modify a registered colormap in-place. To remove this warning, you can make a copy of the colormap first. cmap = copy.copy(mpl.cm.get_cmap(\"viridis\"))\n",
      "  newcm.set_under(bgcolor)\n",
      "/Users/yoachim/lsst/conda/miniconda3-py38_4.9.2/envs/lsst-scipipe-0.4.3/lib/python3.8/site-packages/healpy/projaxes.py:922: MatplotlibDeprecationWarning: You are modifying the state of a globally registered colormap. In future versions, you will not be able to modify a registered colormap in-place. To remove this warning, you can make a copy of the colormap first. cmap = copy.copy(mpl.cm.get_cmap(\"viridis\"))\n",
      "  newcm.set_bad(badcolor)\n",
      "/Users/yoachim/lsst/conda/miniconda3-py38_4.9.2/envs/lsst-scipipe-0.4.3/lib/python3.8/site-packages/healpy/projaxes.py:202: MatplotlibDeprecationWarning: Passing parameters norm and vmin/vmax simultaneously is deprecated since 3.3 and will become an error two minor releases later. Please pass vmin/vmax directly to the norm when creating it.\n",
      "  aximg = self.imshow(\n"
     ]
    },
    {
     "name": "stdout",
     "output_type": "stream",
     "text": [
      "<lsst.sims.maf.metrics.snSLMetric.SNSLMetric object at 0x7fa7adaf5820>\n",
      "Querying database SummaryAllProps with no constraint for columns ['fiveSigmaDepth', 'filter', 'observationId', 'visitTime', 'visitExposureTime', 'observationStartMJD', 'fieldRA', 'fieldDec', 'numExposures', 'night'].\n",
      "Found 2226787 visits\n",
      "Running:  ['wfd_depth_scale0_85_noddf_v1_5_10yrs_SNSLMetric_HEAL']\n"
     ]
    },
    {
     "name": "stderr",
     "output_type": "stream",
     "text": [
      "/Users/yoachim/gitRepos/sims_maf/python/lsst/sims/maf/maps/dustMap.py:24: UserWarning: Slicer value of nside (64) different from map value (128), using slicer value\n",
      "  warnings.warn('Slicer value of nside (%i) different from map value (%i), using slicer value'\n"
     ]
    },
    {
     "name": "stdout",
     "output_type": "stream",
     "text": [
      "Completed metric generation.\n",
      "Running reduce methods.\n",
      "Running summary statistics.\n",
      "Completed.\n",
      "Plotting figures with \"\" constraint now.\n"
     ]
    },
    {
     "name": "stderr",
     "output_type": "stream",
     "text": [
      "/Users/yoachim/lsst/conda/miniconda3-py38_4.9.2/envs/lsst-scipipe-0.4.3/lib/python3.8/site-packages/healpy/projaxes.py:202: MatplotlibDeprecationWarning: Passing parameters norm and vmin/vmax simultaneously is deprecated since 3.3 and will become an error two minor releases later. Please pass vmin/vmax directly to the norm when creating it.\n",
      "  aximg = self.imshow(\n",
      "/Users/yoachim/lsst/conda/miniconda3-py38_4.9.2/envs/lsst-scipipe-0.4.3/lib/python3.8/site-packages/healpy/pixelfunc.py:1581: UserWarning: monopole: 0.00023407  dipole: lon: 65.4036, lat: -78.8688, amp: 0.00011242\n",
      "  warnings.warn(\n"
     ]
    },
    {
     "name": "stdout",
     "output_type": "stream",
     "text": [
      "Plotting complete.\n",
      "wfd_depth_scale0.85_noddf_v1.5_10yrs.db: 8.847953\n",
      "3 of 86\n",
      "2021-03-30 19:44:28.405631\n",
      "Healpix slicer using NSIDE=64, approximate resolution 54.967783 arcminutes\n"
     ]
    },
    {
     "name": "stderr",
     "output_type": "stream",
     "text": [
      "/Users/yoachim/lsst/conda/miniconda3-py38_4.9.2/envs/lsst-scipipe-0.4.3/lib/python3.8/site-packages/healpy/projaxes.py:920: MatplotlibDeprecationWarning: You are modifying the state of a globally registered colormap. In future versions, you will not be able to modify a registered colormap in-place. To remove this warning, you can make a copy of the colormap first. cmap = copy.copy(mpl.cm.get_cmap(\"viridis\"))\n",
      "  newcm.set_over(newcm(1.0))\n",
      "/Users/yoachim/lsst/conda/miniconda3-py38_4.9.2/envs/lsst-scipipe-0.4.3/lib/python3.8/site-packages/healpy/projaxes.py:921: MatplotlibDeprecationWarning: You are modifying the state of a globally registered colormap. In future versions, you will not be able to modify a registered colormap in-place. To remove this warning, you can make a copy of the colormap first. cmap = copy.copy(mpl.cm.get_cmap(\"viridis\"))\n",
      "  newcm.set_under(bgcolor)\n",
      "/Users/yoachim/lsst/conda/miniconda3-py38_4.9.2/envs/lsst-scipipe-0.4.3/lib/python3.8/site-packages/healpy/projaxes.py:922: MatplotlibDeprecationWarning: You are modifying the state of a globally registered colormap. In future versions, you will not be able to modify a registered colormap in-place. To remove this warning, you can make a copy of the colormap first. cmap = copy.copy(mpl.cm.get_cmap(\"viridis\"))\n",
      "  newcm.set_bad(badcolor)\n",
      "/Users/yoachim/lsst/conda/miniconda3-py38_4.9.2/envs/lsst-scipipe-0.4.3/lib/python3.8/site-packages/healpy/projaxes.py:202: MatplotlibDeprecationWarning: Passing parameters norm and vmin/vmax simultaneously is deprecated since 3.3 and will become an error two minor releases later. Please pass vmin/vmax directly to the norm when creating it.\n",
      "  aximg = self.imshow(\n"
     ]
    },
    {
     "name": "stdout",
     "output_type": "stream",
     "text": [
      "<lsst.sims.maf.metrics.snSLMetric.SNSLMetric object at 0x7fa835c658b0>\n",
      "Querying database SummaryAllProps with no constraint for columns ['fiveSigmaDepth', 'filter', 'observationId', 'visitTime', 'visitExposureTime', 'observationStartMJD', 'fieldRA', 'fieldDec', 'numExposures', 'night'].\n",
      "Found 2223700 visits\n",
      "Running:  ['filterdist_indx3_v1_5_10yrs_SNSLMetric_HEAL']\n"
     ]
    },
    {
     "name": "stderr",
     "output_type": "stream",
     "text": [
      "/Users/yoachim/gitRepos/sims_maf/python/lsst/sims/maf/maps/dustMap.py:24: UserWarning: Slicer value of nside (64) different from map value (128), using slicer value\n",
      "  warnings.warn('Slicer value of nside (%i) different from map value (%i), using slicer value'\n"
     ]
    },
    {
     "name": "stdout",
     "output_type": "stream",
     "text": [
      "Completed metric generation.\n",
      "Running reduce methods.\n",
      "Running summary statistics.\n",
      "Completed.\n",
      "Plotting figures with \"\" constraint now.\n"
     ]
    },
    {
     "name": "stderr",
     "output_type": "stream",
     "text": [
      "/Users/yoachim/lsst/conda/miniconda3-py38_4.9.2/envs/lsst-scipipe-0.4.3/lib/python3.8/site-packages/healpy/projaxes.py:202: MatplotlibDeprecationWarning: Passing parameters norm and vmin/vmax simultaneously is deprecated since 3.3 and will become an error two minor releases later. Please pass vmin/vmax directly to the norm when creating it.\n",
      "  aximg = self.imshow(\n",
      "/Users/yoachim/lsst/conda/miniconda3-py38_4.9.2/envs/lsst-scipipe-0.4.3/lib/python3.8/site-packages/healpy/pixelfunc.py:1581: UserWarning: monopole: 0.000340015  dipole: lon: 65.9705, lat: -10.0433, amp: 0.000101567\n",
      "  warnings.warn(\n"
     ]
    },
    {
     "name": "stdout",
     "output_type": "stream",
     "text": [
      "Plotting complete.\n",
      "filterdist_indx3_v1.5_10yrs.db: 8.770810\n",
      "4 of 86\n",
      "2021-03-30 20:03:29.882673\n",
      "Healpix slicer using NSIDE=64, approximate resolution 54.967783 arcminutes\n"
     ]
    },
    {
     "name": "stderr",
     "output_type": "stream",
     "text": [
      "/Users/yoachim/lsst/conda/miniconda3-py38_4.9.2/envs/lsst-scipipe-0.4.3/lib/python3.8/site-packages/healpy/projaxes.py:920: MatplotlibDeprecationWarning: You are modifying the state of a globally registered colormap. In future versions, you will not be able to modify a registered colormap in-place. To remove this warning, you can make a copy of the colormap first. cmap = copy.copy(mpl.cm.get_cmap(\"viridis\"))\n",
      "  newcm.set_over(newcm(1.0))\n",
      "/Users/yoachim/lsst/conda/miniconda3-py38_4.9.2/envs/lsst-scipipe-0.4.3/lib/python3.8/site-packages/healpy/projaxes.py:921: MatplotlibDeprecationWarning: You are modifying the state of a globally registered colormap. In future versions, you will not be able to modify a registered colormap in-place. To remove this warning, you can make a copy of the colormap first. cmap = copy.copy(mpl.cm.get_cmap(\"viridis\"))\n",
      "  newcm.set_under(bgcolor)\n",
      "/Users/yoachim/lsst/conda/miniconda3-py38_4.9.2/envs/lsst-scipipe-0.4.3/lib/python3.8/site-packages/healpy/projaxes.py:922: MatplotlibDeprecationWarning: You are modifying the state of a globally registered colormap. In future versions, you will not be able to modify a registered colormap in-place. To remove this warning, you can make a copy of the colormap first. cmap = copy.copy(mpl.cm.get_cmap(\"viridis\"))\n",
      "  newcm.set_bad(badcolor)\n",
      "/Users/yoachim/lsst/conda/miniconda3-py38_4.9.2/envs/lsst-scipipe-0.4.3/lib/python3.8/site-packages/healpy/projaxes.py:202: MatplotlibDeprecationWarning: Passing parameters norm and vmin/vmax simultaneously is deprecated since 3.3 and will become an error two minor releases later. Please pass vmin/vmax directly to the norm when creating it.\n",
      "  aximg = self.imshow(\n"
     ]
    },
    {
     "name": "stdout",
     "output_type": "stream",
     "text": [
      "<lsst.sims.maf.metrics.snSLMetric.SNSLMetric object at 0x7fa82291c2b0>\n",
      "Querying database SummaryAllProps with no constraint for columns ['fiveSigmaDepth', 'filter', 'observationId', 'visitTime', 'visitExposureTime', 'observationStartMJD', 'fieldRA', 'fieldDec', 'numExposures', 'night'].\n",
      "Found 2536392 visits\n",
      "Running:  ['short_exp_2ns_1expt_v1_5_10yrs_SNSLMetric_HEAL']\n"
     ]
    },
    {
     "name": "stderr",
     "output_type": "stream",
     "text": [
      "/Users/yoachim/gitRepos/sims_maf/python/lsst/sims/maf/maps/dustMap.py:24: UserWarning: Slicer value of nside (64) different from map value (128), using slicer value\n",
      "  warnings.warn('Slicer value of nside (%i) different from map value (%i), using slicer value'\n"
     ]
    },
    {
     "name": "stdout",
     "output_type": "stream",
     "text": [
      "Completed metric generation.\n",
      "Running reduce methods.\n",
      "Running summary statistics.\n",
      "Completed.\n",
      "Plotting figures with \"\" constraint now.\n"
     ]
    },
    {
     "name": "stderr",
     "output_type": "stream",
     "text": [
      "/Users/yoachim/lsst/conda/miniconda3-py38_4.9.2/envs/lsst-scipipe-0.4.3/lib/python3.8/site-packages/healpy/projaxes.py:202: MatplotlibDeprecationWarning: Passing parameters norm and vmin/vmax simultaneously is deprecated since 3.3 and will become an error two minor releases later. Please pass vmin/vmax directly to the norm when creating it.\n",
      "  aximg = self.imshow(\n",
      "/Users/yoachim/lsst/conda/miniconda3-py38_4.9.2/envs/lsst-scipipe-0.4.3/lib/python3.8/site-packages/healpy/pixelfunc.py:1581: UserWarning: monopole: 0.000209759  dipole: lon: 89.943, lat: -76.6703, amp: 0.000121571\n",
      "  warnings.warn(\n"
     ]
    },
    {
     "name": "stdout",
     "output_type": "stream",
     "text": [
      "Plotting complete.\n",
      "short_exp_2ns_1expt_v1.5_10yrs.db: 8.153020\n",
      "5 of 86\n",
      "2021-03-30 20:23:08.011933\n",
      "Healpix slicer using NSIDE=64, approximate resolution 54.967783 arcminutes\n"
     ]
    },
    {
     "name": "stderr",
     "output_type": "stream",
     "text": [
      "/Users/yoachim/lsst/conda/miniconda3-py38_4.9.2/envs/lsst-scipipe-0.4.3/lib/python3.8/site-packages/healpy/projaxes.py:920: MatplotlibDeprecationWarning: You are modifying the state of a globally registered colormap. In future versions, you will not be able to modify a registered colormap in-place. To remove this warning, you can make a copy of the colormap first. cmap = copy.copy(mpl.cm.get_cmap(\"viridis\"))\n",
      "  newcm.set_over(newcm(1.0))\n",
      "/Users/yoachim/lsst/conda/miniconda3-py38_4.9.2/envs/lsst-scipipe-0.4.3/lib/python3.8/site-packages/healpy/projaxes.py:921: MatplotlibDeprecationWarning: You are modifying the state of a globally registered colormap. In future versions, you will not be able to modify a registered colormap in-place. To remove this warning, you can make a copy of the colormap first. cmap = copy.copy(mpl.cm.get_cmap(\"viridis\"))\n",
      "  newcm.set_under(bgcolor)\n",
      "/Users/yoachim/lsst/conda/miniconda3-py38_4.9.2/envs/lsst-scipipe-0.4.3/lib/python3.8/site-packages/healpy/projaxes.py:922: MatplotlibDeprecationWarning: You are modifying the state of a globally registered colormap. In future versions, you will not be able to modify a registered colormap in-place. To remove this warning, you can make a copy of the colormap first. cmap = copy.copy(mpl.cm.get_cmap(\"viridis\"))\n",
      "  newcm.set_bad(badcolor)\n",
      "/Users/yoachim/lsst/conda/miniconda3-py38_4.9.2/envs/lsst-scipipe-0.4.3/lib/python3.8/site-packages/healpy/projaxes.py:202: MatplotlibDeprecationWarning: Passing parameters norm and vmin/vmax simultaneously is deprecated since 3.3 and will become an error two minor releases later. Please pass vmin/vmax directly to the norm when creating it.\n",
      "  aximg = self.imshow(\n"
     ]
    },
    {
     "name": "stdout",
     "output_type": "stream",
     "text": [
      "<lsst.sims.maf.metrics.snSLMetric.SNSLMetric object at 0x7fa7bae3ba30>\n",
      "Querying database SummaryAllProps with no constraint for columns ['fiveSigmaDepth', 'filter', 'observationId', 'visitTime', 'visitExposureTime', 'observationStartMJD', 'fieldRA', 'fieldDec', 'numExposures', 'night'].\n",
      "Found 2226780 visits\n",
      "Running:  ['wfd_depth_scale0_75_noddf_v1_5_10yrs_SNSLMetric_HEAL']\n"
     ]
    },
    {
     "name": "stderr",
     "output_type": "stream",
     "text": [
      "/Users/yoachim/gitRepos/sims_maf/python/lsst/sims/maf/maps/dustMap.py:24: UserWarning: Slicer value of nside (64) different from map value (128), using slicer value\n",
      "  warnings.warn('Slicer value of nside (%i) different from map value (%i), using slicer value'\n"
     ]
    },
    {
     "name": "stdout",
     "output_type": "stream",
     "text": [
      "Completed metric generation.\n",
      "Running reduce methods.\n",
      "Running summary statistics.\n",
      "Completed.\n",
      "Plotting figures with \"\" constraint now.\n"
     ]
    },
    {
     "name": "stderr",
     "output_type": "stream",
     "text": [
      "/Users/yoachim/gitRepos/sims_maf/python/lsst/sims/maf/plots/spatialPlotters.py:137: RuntimeWarning: More than 20 figures have been opened. Figures created through the pyplot interface (`matplotlib.pyplot.figure`) are retained until explicitly closed and may consume too much memory. (To control this warning, see the rcParam `figure.max_open_warning`).\n",
      "  fig = plt.figure(fignum, figsize=plotDict['figsize'])\n",
      "/Users/yoachim/lsst/conda/miniconda3-py38_4.9.2/envs/lsst-scipipe-0.4.3/lib/python3.8/site-packages/healpy/projaxes.py:202: MatplotlibDeprecationWarning: Passing parameters norm and vmin/vmax simultaneously is deprecated since 3.3 and will become an error two minor releases later. Please pass vmin/vmax directly to the norm when creating it.\n",
      "  aximg = self.imshow(\n",
      "/Users/yoachim/lsst/conda/miniconda3-py38_4.9.2/envs/lsst-scipipe-0.4.3/lib/python3.8/site-packages/healpy/pixelfunc.py:1581: UserWarning: monopole: 0.000221005  dipole: lon: 93.5619, lat: -72.6575, amp: 7.97253e-05\n",
      "  warnings.warn(\n"
     ]
    },
    {
     "name": "stdout",
     "output_type": "stream",
     "text": [
      "Plotting complete.\n",
      "wfd_depth_scale0.75_noddf_v1.5_10yrs.db: 8.070388\n",
      "6 of 86\n",
      "2021-03-30 20:43:03.873121\n",
      "Healpix slicer using NSIDE=64, approximate resolution 54.967783 arcminutes\n"
     ]
    },
    {
     "name": "stderr",
     "output_type": "stream",
     "text": [
      "/Users/yoachim/lsst/conda/miniconda3-py38_4.9.2/envs/lsst-scipipe-0.4.3/lib/python3.8/site-packages/healpy/projaxes.py:920: MatplotlibDeprecationWarning: You are modifying the state of a globally registered colormap. In future versions, you will not be able to modify a registered colormap in-place. To remove this warning, you can make a copy of the colormap first. cmap = copy.copy(mpl.cm.get_cmap(\"viridis\"))\n",
      "  newcm.set_over(newcm(1.0))\n",
      "/Users/yoachim/lsst/conda/miniconda3-py38_4.9.2/envs/lsst-scipipe-0.4.3/lib/python3.8/site-packages/healpy/projaxes.py:921: MatplotlibDeprecationWarning: You are modifying the state of a globally registered colormap. In future versions, you will not be able to modify a registered colormap in-place. To remove this warning, you can make a copy of the colormap first. cmap = copy.copy(mpl.cm.get_cmap(\"viridis\"))\n",
      "  newcm.set_under(bgcolor)\n",
      "/Users/yoachim/lsst/conda/miniconda3-py38_4.9.2/envs/lsst-scipipe-0.4.3/lib/python3.8/site-packages/healpy/projaxes.py:922: MatplotlibDeprecationWarning: You are modifying the state of a globally registered colormap. In future versions, you will not be able to modify a registered colormap in-place. To remove this warning, you can make a copy of the colormap first. cmap = copy.copy(mpl.cm.get_cmap(\"viridis\"))\n",
      "  newcm.set_bad(badcolor)\n",
      "/Users/yoachim/lsst/conda/miniconda3-py38_4.9.2/envs/lsst-scipipe-0.4.3/lib/python3.8/site-packages/healpy/projaxes.py:202: MatplotlibDeprecationWarning: Passing parameters norm and vmin/vmax simultaneously is deprecated since 3.3 and will become an error two minor releases later. Please pass vmin/vmax directly to the norm when creating it.\n",
      "  aximg = self.imshow(\n"
     ]
    },
    {
     "name": "stdout",
     "output_type": "stream",
     "text": [
      "<lsst.sims.maf.metrics.snSLMetric.SNSLMetric object at 0x7fa7b77c9310>\n",
      "Querying database SummaryAllProps with no constraint for columns ['fiveSigmaDepth', 'filter', 'observationId', 'visitTime', 'visitExposureTime', 'observationStartMJD', 'fieldRA', 'fieldDec', 'numExposures', 'night'].\n",
      "Found 2221595 visits\n",
      "Running:  ['filterdist_indx7_v1_5_10yrs_SNSLMetric_HEAL']\n"
     ]
    },
    {
     "name": "stderr",
     "output_type": "stream",
     "text": [
      "/Users/yoachim/gitRepos/sims_maf/python/lsst/sims/maf/maps/dustMap.py:24: UserWarning: Slicer value of nside (64) different from map value (128), using slicer value\n",
      "  warnings.warn('Slicer value of nside (%i) different from map value (%i), using slicer value'\n"
     ]
    },
    {
     "name": "stdout",
     "output_type": "stream",
     "text": [
      "Completed metric generation.\n",
      "Running reduce methods.\n",
      "Running summary statistics.\n",
      "Completed.\n",
      "Plotting figures with \"\" constraint now.\n"
     ]
    },
    {
     "name": "stderr",
     "output_type": "stream",
     "text": [
      "/Users/yoachim/lsst/conda/miniconda3-py38_4.9.2/envs/lsst-scipipe-0.4.3/lib/python3.8/site-packages/healpy/projaxes.py:202: MatplotlibDeprecationWarning: Passing parameters norm and vmin/vmax simultaneously is deprecated since 3.3 and will become an error two minor releases later. Please pass vmin/vmax directly to the norm when creating it.\n",
      "  aximg = self.imshow(\n",
      "/Users/yoachim/lsst/conda/miniconda3-py38_4.9.2/envs/lsst-scipipe-0.4.3/lib/python3.8/site-packages/healpy/pixelfunc.py:1581: UserWarning: monopole: 0.000348665  dipole: lon: 66.3402, lat: -11.8533, amp: 9.60901e-05\n",
      "  warnings.warn(\n"
     ]
    },
    {
     "name": "stdout",
     "output_type": "stream",
     "text": [
      "Plotting complete.\n",
      "filterdist_indx7_v1.5_10yrs.db: 9.009631\n",
      "7 of 86\n",
      "2021-03-30 21:01:51.258614\n",
      "Healpix slicer using NSIDE=64, approximate resolution 54.967783 arcminutes\n"
     ]
    },
    {
     "name": "stderr",
     "output_type": "stream",
     "text": [
      "/Users/yoachim/lsst/conda/miniconda3-py38_4.9.2/envs/lsst-scipipe-0.4.3/lib/python3.8/site-packages/healpy/projaxes.py:920: MatplotlibDeprecationWarning: You are modifying the state of a globally registered colormap. In future versions, you will not be able to modify a registered colormap in-place. To remove this warning, you can make a copy of the colormap first. cmap = copy.copy(mpl.cm.get_cmap(\"viridis\"))\n",
      "  newcm.set_over(newcm(1.0))\n",
      "/Users/yoachim/lsst/conda/miniconda3-py38_4.9.2/envs/lsst-scipipe-0.4.3/lib/python3.8/site-packages/healpy/projaxes.py:921: MatplotlibDeprecationWarning: You are modifying the state of a globally registered colormap. In future versions, you will not be able to modify a registered colormap in-place. To remove this warning, you can make a copy of the colormap first. cmap = copy.copy(mpl.cm.get_cmap(\"viridis\"))\n",
      "  newcm.set_under(bgcolor)\n",
      "/Users/yoachim/lsst/conda/miniconda3-py38_4.9.2/envs/lsst-scipipe-0.4.3/lib/python3.8/site-packages/healpy/projaxes.py:922: MatplotlibDeprecationWarning: You are modifying the state of a globally registered colormap. In future versions, you will not be able to modify a registered colormap in-place. To remove this warning, you can make a copy of the colormap first. cmap = copy.copy(mpl.cm.get_cmap(\"viridis\"))\n",
      "  newcm.set_bad(badcolor)\n",
      "/Users/yoachim/lsst/conda/miniconda3-py38_4.9.2/envs/lsst-scipipe-0.4.3/lib/python3.8/site-packages/healpy/projaxes.py:202: MatplotlibDeprecationWarning: Passing parameters norm and vmin/vmax simultaneously is deprecated since 3.3 and will become an error two minor releases later. Please pass vmin/vmax directly to the norm when creating it.\n",
      "  aximg = self.imshow(\n"
     ]
    },
    {
     "name": "stdout",
     "output_type": "stream",
     "text": [
      "<lsst.sims.maf.metrics.snSLMetric.SNSLMetric object at 0x7fa7b3848ee0>\n",
      "Querying database SummaryAllProps with no constraint for columns ['fiveSigmaDepth', 'filter', 'observationId', 'visitTime', 'visitExposureTime', 'observationStartMJD', 'fieldRA', 'fieldDec', 'numExposures', 'night'].\n",
      "Found 2224196 visits\n",
      "Running:  ['wfd_depth_scale0_90_v1_5_10yrs_SNSLMetric_HEAL']\n"
     ]
    },
    {
     "name": "stderr",
     "output_type": "stream",
     "text": [
      "/Users/yoachim/gitRepos/sims_maf/python/lsst/sims/maf/maps/dustMap.py:24: UserWarning: Slicer value of nside (64) different from map value (128), using slicer value\n",
      "  warnings.warn('Slicer value of nside (%i) different from map value (%i), using slicer value'\n"
     ]
    },
    {
     "name": "stdout",
     "output_type": "stream",
     "text": [
      "Completed metric generation.\n",
      "Running reduce methods.\n",
      "Running summary statistics.\n",
      "Completed.\n",
      "Plotting figures with \"\" constraint now.\n"
     ]
    },
    {
     "name": "stderr",
     "output_type": "stream",
     "text": [
      "/Users/yoachim/lsst/conda/miniconda3-py38_4.9.2/envs/lsst-scipipe-0.4.3/lib/python3.8/site-packages/healpy/projaxes.py:202: MatplotlibDeprecationWarning: Passing parameters norm and vmin/vmax simultaneously is deprecated since 3.3 and will become an error two minor releases later. Please pass vmin/vmax directly to the norm when creating it.\n",
      "  aximg = self.imshow(\n",
      "/Users/yoachim/lsst/conda/miniconda3-py38_4.9.2/envs/lsst-scipipe-0.4.3/lib/python3.8/site-packages/healpy/pixelfunc.py:1581: UserWarning: monopole: 0.000221569  dipole: lon: 59.2548, lat: -75.4562, amp: 0.000122753\n",
      "  warnings.warn(\n"
     ]
    },
    {
     "name": "stdout",
     "output_type": "stream",
     "text": [
      "Plotting complete.\n",
      "wfd_depth_scale0.90_v1.5_10yrs.db: 8.542448\n",
      "8 of 86\n",
      "2021-03-30 21:20:44.587000\n",
      "Healpix slicer using NSIDE=64, approximate resolution 54.967783 arcminutes\n"
     ]
    },
    {
     "name": "stderr",
     "output_type": "stream",
     "text": [
      "/Users/yoachim/lsst/conda/miniconda3-py38_4.9.2/envs/lsst-scipipe-0.4.3/lib/python3.8/site-packages/healpy/projaxes.py:920: MatplotlibDeprecationWarning: You are modifying the state of a globally registered colormap. In future versions, you will not be able to modify a registered colormap in-place. To remove this warning, you can make a copy of the colormap first. cmap = copy.copy(mpl.cm.get_cmap(\"viridis\"))\n",
      "  newcm.set_over(newcm(1.0))\n",
      "/Users/yoachim/lsst/conda/miniconda3-py38_4.9.2/envs/lsst-scipipe-0.4.3/lib/python3.8/site-packages/healpy/projaxes.py:921: MatplotlibDeprecationWarning: You are modifying the state of a globally registered colormap. In future versions, you will not be able to modify a registered colormap in-place. To remove this warning, you can make a copy of the colormap first. cmap = copy.copy(mpl.cm.get_cmap(\"viridis\"))\n",
      "  newcm.set_under(bgcolor)\n",
      "/Users/yoachim/lsst/conda/miniconda3-py38_4.9.2/envs/lsst-scipipe-0.4.3/lib/python3.8/site-packages/healpy/projaxes.py:922: MatplotlibDeprecationWarning: You are modifying the state of a globally registered colormap. In future versions, you will not be able to modify a registered colormap in-place. To remove this warning, you can make a copy of the colormap first. cmap = copy.copy(mpl.cm.get_cmap(\"viridis\"))\n",
      "  newcm.set_bad(badcolor)\n",
      "/Users/yoachim/lsst/conda/miniconda3-py38_4.9.2/envs/lsst-scipipe-0.4.3/lib/python3.8/site-packages/healpy/projaxes.py:202: MatplotlibDeprecationWarning: Passing parameters norm and vmin/vmax simultaneously is deprecated since 3.3 and will become an error two minor releases later. Please pass vmin/vmax directly to the norm when creating it.\n",
      "  aximg = self.imshow(\n"
     ]
    },
    {
     "name": "stdout",
     "output_type": "stream",
     "text": [
      "<lsst.sims.maf.metrics.snSLMetric.SNSLMetric object at 0x7fa7b6337af0>\n",
      "Querying database SummaryAllProps with no constraint for columns ['fiveSigmaDepth', 'filter', 'observationId', 'visitTime', 'visitExposureTime', 'observationStartMJD', 'fieldRA', 'fieldDec', 'numExposures', 'night'].\n",
      "Found 2225855 visits\n",
      "Running:  ['third_obs_pt45v1_5_10yrs_SNSLMetric_HEAL']\n"
     ]
    },
    {
     "name": "stderr",
     "output_type": "stream",
     "text": [
      "/Users/yoachim/gitRepos/sims_maf/python/lsst/sims/maf/maps/dustMap.py:24: UserWarning: Slicer value of nside (64) different from map value (128), using slicer value\n",
      "  warnings.warn('Slicer value of nside (%i) different from map value (%i), using slicer value'\n"
     ]
    },
    {
     "name": "stdout",
     "output_type": "stream",
     "text": [
      "Completed metric generation.\n",
      "Running reduce methods.\n",
      "Running summary statistics.\n",
      "Completed.\n",
      "Plotting figures with \"\" constraint now.\n"
     ]
    },
    {
     "name": "stderr",
     "output_type": "stream",
     "text": [
      "/Users/yoachim/lsst/conda/miniconda3-py38_4.9.2/envs/lsst-scipipe-0.4.3/lib/python3.8/site-packages/healpy/projaxes.py:202: MatplotlibDeprecationWarning: Passing parameters norm and vmin/vmax simultaneously is deprecated since 3.3 and will become an error two minor releases later. Please pass vmin/vmax directly to the norm when creating it.\n",
      "  aximg = self.imshow(\n",
      "/Users/yoachim/lsst/conda/miniconda3-py38_4.9.2/envs/lsst-scipipe-0.4.3/lib/python3.8/site-packages/healpy/pixelfunc.py:1581: UserWarning: monopole: 0.000213459  dipole: lon: 56.8767, lat: -75.696, amp: 0.000122398\n",
      "  warnings.warn(\n"
     ]
    },
    {
     "name": "stdout",
     "output_type": "stream",
     "text": [
      "Plotting complete.\n",
      "third_obs_pt45v1.5_10yrs.db: 8.275439\n",
      "9 of 86\n",
      "2021-03-30 21:39:33.975342\n",
      "Healpix slicer using NSIDE=64, approximate resolution 54.967783 arcminutes\n"
     ]
    },
    {
     "name": "stderr",
     "output_type": "stream",
     "text": [
      "/Users/yoachim/lsst/conda/miniconda3-py38_4.9.2/envs/lsst-scipipe-0.4.3/lib/python3.8/site-packages/healpy/projaxes.py:920: MatplotlibDeprecationWarning: You are modifying the state of a globally registered colormap. In future versions, you will not be able to modify a registered colormap in-place. To remove this warning, you can make a copy of the colormap first. cmap = copy.copy(mpl.cm.get_cmap(\"viridis\"))\n",
      "  newcm.set_over(newcm(1.0))\n",
      "/Users/yoachim/lsst/conda/miniconda3-py38_4.9.2/envs/lsst-scipipe-0.4.3/lib/python3.8/site-packages/healpy/projaxes.py:921: MatplotlibDeprecationWarning: You are modifying the state of a globally registered colormap. In future versions, you will not be able to modify a registered colormap in-place. To remove this warning, you can make a copy of the colormap first. cmap = copy.copy(mpl.cm.get_cmap(\"viridis\"))\n",
      "  newcm.set_under(bgcolor)\n",
      "/Users/yoachim/lsst/conda/miniconda3-py38_4.9.2/envs/lsst-scipipe-0.4.3/lib/python3.8/site-packages/healpy/projaxes.py:922: MatplotlibDeprecationWarning: You are modifying the state of a globally registered colormap. In future versions, you will not be able to modify a registered colormap in-place. To remove this warning, you can make a copy of the colormap first. cmap = copy.copy(mpl.cm.get_cmap(\"viridis\"))\n",
      "  newcm.set_bad(badcolor)\n",
      "/Users/yoachim/lsst/conda/miniconda3-py38_4.9.2/envs/lsst-scipipe-0.4.3/lib/python3.8/site-packages/healpy/projaxes.py:202: MatplotlibDeprecationWarning: Passing parameters norm and vmin/vmax simultaneously is deprecated since 3.3 and will become an error two minor releases later. Please pass vmin/vmax directly to the norm when creating it.\n",
      "  aximg = self.imshow(\n"
     ]
    },
    {
     "name": "stdout",
     "output_type": "stream",
     "text": [
      "<lsst.sims.maf.metrics.snSLMetric.SNSLMetric object at 0x7fa7b9b60760>\n",
      "Querying database SummaryAllProps with no constraint for columns ['fiveSigmaDepth', 'filter', 'observationId', 'visitTime', 'visitExposureTime', 'observationStartMJD', 'fieldRA', 'fieldDec', 'numExposures', 'night'].\n",
      "Found 2228766 visits\n",
      "Running:  ['spiders_v1_5_10yrs_SNSLMetric_HEAL']\n"
     ]
    },
    {
     "name": "stderr",
     "output_type": "stream",
     "text": [
      "/Users/yoachim/gitRepos/sims_maf/python/lsst/sims/maf/maps/dustMap.py:24: UserWarning: Slicer value of nside (64) different from map value (128), using slicer value\n",
      "  warnings.warn('Slicer value of nside (%i) different from map value (%i), using slicer value'\n"
     ]
    }
   ],
   "source": [
    "for j,i in enumerate(list_of_databases):\n",
    "    print('%i of %i' % (j,len(list_of_databases)))\n",
    "    print(datetime.datetime.now())\n",
    "\n",
    "    #if i == \"baseline_nexp1_v1.6_10yrs.db\": \n",
    "\n",
    "    # Database available from https://lsst-web.ncsa.illinois.edu/sim-data/sims_featureScheduler_runs1.4/baseline/\n",
    "    dbFile = os.path.join(path_where_version_folder_is_stored,'%s' % (i)) #'descddf_v1.4_10yrs.db'\n",
    "    dbName = i.replace('.db', '')\n",
    "    opsimdb = db.OpsimDatabase(dbFile)\n",
    "    \n",
    "    \n",
    "    slicer = slicers.HealpixSlicer(nside=64, useCache=False)\n",
    "    \n",
    "            \n",
    "    bundleList= []\n",
    "    \n",
    "    metric = SNSLMetric(night_collapse=True)\n",
    "    summaryStats = [metrics.SumMetric()]            \n",
    "    sql = '' \n",
    "    \n",
    "    print(metric)\n",
    "    \n",
    "    bundleList.append(metricBundles.MetricBundle(\n",
    "        metric, slicer, sql, runName= dbName,summaryMetrics=summaryStats))\n",
    "\n",
    "    if version == \"v1.7\":\n",
    "        outDir = 'SL_fbs17/%s_SLTimeDelay' % (dbName)      \n",
    "    elif version == \"v1.6\":\n",
    "        outDir = 'SL_fbs16/%s_SLTimeDelay' % (dbName)    \n",
    "    elif version == \"v1.5\":\n",
    "        outDir = 'SL_fbs15/%s_SLTimeDelay' % (dbName)\n",
    "    elif version == \"v1.4\":\n",
    "        outDir = 'SL_fbs14/%s_SLTimeDelay' % (dbName)\n",
    "    resultsDb = db.ResultsDb(outDir=outDir)\n",
    "    bundleDict = metricBundles.makeBundlesDictFromList(bundleList)\n",
    "    bgroup = metricBundles.MetricBundleGroup(bundleDict, opsimdb, outDir=outDir, resultsDb=resultsDb)\n",
    "    bgroup.runAll()\n",
    "    \n",
    "    bgroup.plotAll(closefigs=False)\n",
    "    \n",
    "    strategy_name = list(bundleDict)[0]\n",
    "    \n",
    "    nSL = bundleDict[strategy_name]\n",
    "    nSL = nSL.metricValues[~nSL.metricValues.mask]\n",
    "    nSL = nSL[nSL>0]    \n",
    "    print(\"%s: %f\" % (i,np.sum(nSL)))\n",
    "    \n",
    "    \n",
    "    hp.mollview(bundleList[0].metricValues,  title='sum= %f' % bundleList[0].summaryValues['Sum'])"
   ]
  },
  {
   "cell_type": "code",
   "execution_count": null,
   "id": "substantial-width",
   "metadata": {},
   "outputs": [],
   "source": []
  },
  {
   "cell_type": "code",
   "execution_count": null,
   "id": "indonesian-indonesia",
   "metadata": {},
   "outputs": [],
   "source": []
  }
 ],
 "metadata": {
  "kernelspec": {
   "display_name": "Python 3",
   "language": "python",
   "name": "python3"
  },
  "language_info": {
   "codemirror_mode": {
    "name": "ipython",
    "version": 3
   },
   "file_extension": ".py",
   "mimetype": "text/x-python",
   "name": "python",
   "nbconvert_exporter": "python",
   "pygments_lexer": "ipython3",
   "version": "3.8.8"
  }
 },
 "nbformat": 4,
 "nbformat_minor": 5
}
